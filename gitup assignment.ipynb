{
 "cells": [
  {
   "cell_type": "markdown",
   "id": "feef39dd-4f1d-4649-9d07-c9228cf952f6",
   "metadata": {},
   "source": [
    "### Question 1:returning the indices of two integers in an array such that the add up to the target integer"
   ]
  },
  {
   "cell_type": "code",
   "execution_count": 38,
   "id": "96465818-73bf-40b5-967d-2c71c293bb2c",
   "metadata": {},
   "outputs": [],
   "source": [
    "\n",
    "'''\n",
    "The code takes two arguments n,t where\n",
    "n = the number where we want our range to stop\n",
    "t = the target variable which is the result we are trying to arrive at after computing the sum. \n",
    "The goal is to display the indexes of the different possible values which can give result t when summed\n",
    "for this to be possible, the value of t should not be greater than n\n",
    "'''\n",
    "def sums(n,t):\n",
    "    if t > n:\n",
    "        print('Value of t must be less than or equal to n')\n",
    "    else:\n",
    "        int_indexes=[] #creating an empty list which will contain the index pairs of values which can yield t after sum\n",
    "        arr_int = range(-n,n+1) # makes it possible to have a range of both negative and positive values\n",
    "        arr_int = list(arr_int) # inputs this range of values in a list arr_int\n",
    "        for i in range(len(arr_int)):# takes a value i from the list \n",
    "            for j in range(i, len(arr_int)):\n",
    "                if arr_int[i] + arr_int[j] == t:# checking if the sum of i and j values meets the criterion\n",
    "                    int_indexes.append((i,j))# we append their indexes to empty list int_indexes\n",
    "        return int_indexes\n",
    "\n",
    "    "
   ]
  },
  {
   "cell_type": "code",
   "execution_count": 39,
   "id": "022fff25-9981-46b6-acf6-bd9e50c56490",
   "metadata": {},
   "outputs": [
    {
     "data": {
      "text/plain": [
       "[(4, 8), (5, 7), (6, 6)]"
      ]
     },
     "execution_count": 39,
     "metadata": {},
     "output_type": "execute_result"
    }
   ],
   "source": [
    "sums(4,4)"
   ]
  },
  {
   "cell_type": "markdown",
   "id": "631c5e33-e765-4770-a75e-4a6dc2102e70",
   "metadata": {},
   "source": [
    "### Question 2"
   ]
  },
  {
   "cell_type": "code",
   "execution_count": 98,
   "id": "743b69be-ef92-44c3-a676-342db25a639b",
   "metadata": {},
   "outputs": [],
   "source": [
    "''' \n",
    "This code takes an array nums, extracts its subarrays and stores in the list pairs. \n",
    "it further calculates the sum of every subarray element and outputs the total of the highest pair\n",
    "'''\n",
    "def sub_arrays(n):\n",
    "    pair=[]\n",
    "    for i in range(len(n)):# it supposes the element i is in n\n",
    "        for j in range(i,len(n)):# supposes another element  j is in n starting from i\n",
    "            pairs.append(n[i:j+1])# creates subarrays of list n and appends to n\n",
    "    total=0 # sets the initial value of sum is 0\n",
    "    max_sublist=r[0]\n",
    "    for num in pairs[0]:# sets the first element of the pairs to be num\n",
    "        total+=num  \n",
    "    for sublist in pairs[1:]:#loops through the pair list beginning from index 1 to the rest\n",
    "        current_sum=0 \n",
    "        for number in sublist:# loops through each sublist \n",
    "            current_sum+=number# calculates the sum of element in the sublist\n",
    "            if current_sum > total:# sets total to current sum if condition is met and assigns sublist of the current sum to max_sublist\n",
    "                total=current_sum\n",
    "                max_sublist=sublist\n",
    "    return total\n",
    "                    "
   ]
  },
  {
   "cell_type": "code",
   "execution_count": 99,
   "id": "a2a2a0d2-d379-49c3-9617-f0316f1af57d",
   "metadata": {},
   "outputs": [
    {
     "data": {
      "text/plain": [
       "10"
      ]
     },
     "execution_count": 99,
     "metadata": {},
     "output_type": "execute_result"
    }
   ],
   "source": [
    "nums=[1,2,3,4]\n",
    "sub_arrays(nums)\n"
   ]
  },
  {
   "cell_type": "code",
   "execution_count": 1,
   "id": "153737f1-c97b-4e75-9cce-f7e99b6c3863",
   "metadata": {},
   "outputs": [],
   "source": [
    "'''\n",
    "This program takes a list of colours sorts them and put the adjacent colours together\n",
    "it begins by defining three empty lists and sets a condition where if in looping through the list n it finds\n",
    "1-white=it appends to the list ones\n",
    "2-red= it appends to the list zeros\n",
    "3-blue=it appends to the list twos\n",
    "At the end we combine all three lists and come out with list containing adjacent colours together\n",
    "'''\n",
    "def sorts(n):\n",
    "    zeros = []\n",
    "    ones = []\n",
    "    twos = []\n",
    "    r = []\n",
    "    for i in n:\n",
    "        if i=='white':\n",
    "            ones.append(i)\n",
    "        elif i== 'red':\n",
    "            zeros.append(i)\n",
    "        else:\n",
    "            twos.append(i)  \n",
    "    r = zeros+ones+twos\n",
    "    return r"
   ]
  },
  {
   "cell_type": "code",
   "execution_count": 2,
   "id": "9ff5ac9b-80b9-46b6-8c13-12e98b9586f7",
   "metadata": {},
   "outputs": [
    {
     "data": {
      "text/plain": [
       "['red',\n",
       " 'red',\n",
       " 'red',\n",
       " 'white',\n",
       " 'white',\n",
       " 'white',\n",
       " 'white',\n",
       " 'blue',\n",
       " 'blue',\n",
       " 'blue']"
      ]
     },
     "execution_count": 2,
     "metadata": {},
     "output_type": "execute_result"
    }
   ],
   "source": [
    "nums = ['white','red','red','blue','blue','white','red','white','white','blue']  \n",
    "sorted_list = sorts(nums)\n",
    "sorted_list"
   ]
  },
  {
   "cell_type": "markdown",
   "id": "aa23a90f-32e8-4ca0-924d-ec6f027051de",
   "metadata": {},
   "source": [
    "### Question 4"
   ]
  },
  {
   "cell_type": "code",
   "execution_count": 52,
   "id": "1e026e91-3ceb-4ad1-a2a8-b0abbde32586",
   "metadata": {},
   "outputs": [
    {
     "data": {
      "text/plain": [
       "[[1, 9], [11, 12]]"
      ]
     },
     "execution_count": 52,
     "metadata": {},
     "output_type": "execute_result"
    }
   ],
   "source": [
    "'''\n",
    "This program takes lists of pairs list and creates and overall interval of the non overlapping arrays. \n",
    "if begins by sorting out the list making sure every list in the list is in the form list[start,end>start]\n",
    "'''\n",
    "def interval(n):\n",
    "    merge=[]# empty list for sorted pairs\n",
    "    final_merge = []#final interval \n",
    "    for i in n:# the loop takes the first list i compares if start is less than or equal to the end and appends to empty list merge\n",
    "        if i[0] > i[1]:\n",
    "            i[0],i[1] = i[1],i[0]\n",
    "            merge.append(i)\n",
    "        else:\n",
    "            merge.append(i)\n",
    "    for nxt_interval in merge:# this loop checks if there is an interval in the empty list final-merge\n",
    "        if not final_merge:\n",
    "            final_merge.append(nxt_interval)# the absence of an interval leads to adding of the first element in the merge list \n",
    "        else:\n",
    "            ref = final_merge[-1]# this line considers the recently added interval as the last and uses it as reference for comparism\n",
    "            if nxt_interval[0] <= ref[1]:#compares if the first element in the nxt inteval is less than the first element in the reference interval\n",
    "                final_merge[-1] = [ref[0],max(ref[1], nxt_interval[1])]# if the condition is true, the final merge is updated with the re[0] and maximum of the end intervals\n",
    "            else: \n",
    "                final_merge.append(nxt_interval)\n",
    "    return final_merge\n",
    "n = [[3,1],[2,5],[9,4],[11,12]]\n",
    "final_interval = interval(n)\n",
    "final_interval"
   ]
  },
  {
   "cell_type": "markdown",
   "id": "1b7d8d32-522a-4825-8263-9050c925accd",
   "metadata": {},
   "source": [
    "## Question 5"
   ]
  },
  {
   "cell_type": "code",
   "execution_count": 97,
   "id": "c8e9b992-cc5a-4251-aeea-9491e0ed6d6e",
   "metadata": {},
   "outputs": [],
   "source": [
    "'''\n",
    "This code outputs a list of words and their corresponding frequencies starting from the highest\n",
    "'''\n",
    "def parenth(s):\n",
    "    words=s.split()# it splits the sentence into words and stores in a dictionary\n",
    "    word_count={}\n",
    "    word_counts=[]\n",
    "    for word in words:# loops through the words and counts the multiples occurence of others\n",
    "        if word in word_count:\n",
    "            word_count[word]+=1\n",
    "        else:\n",
    "            word_count[word]=1\n",
    "    for key,value in word_count.items():# converts the dictionary of key value pairs to a list\n",
    "       word_counts.append((key,value))\n",
    "    for i in range(len(word_counts)):# loop sorts out the words using their frequencies\n",
    "        for j in range(0, len(word_counts) - i - 1):\n",
    "            if word_counts[j][1] < word_counts[j + 1][1]:\n",
    "                word_counts[j], word_counts[j + 1] = word_counts[j + 1], word_counts[j]\n",
    "    return word_counts\n"
   ]
  },
  {
   "cell_type": "code",
   "execution_count": 96,
   "id": "2276107f-7ced-4759-91fc-def4df8c8c22",
   "metadata": {},
   "outputs": [
    {
     "name": "stdout",
     "output_type": "stream",
     "text": [
      "[('in', 3), ('are', 2), ('fun', 2), ('a', 2), ('semi', 1), ('you', 1), ('good', 1)]\n"
     ]
    }
   ],
   "source": [
    "s='are fun are a semi in in you a in fun good'\n",
    "print(parenth(s))"
   ]
  }
 ],
 "metadata": {
  "kernelspec": {
   "display_name": "Python 3 (ipykernel)",
   "language": "python",
   "name": "python3"
  },
  "language_info": {
   "codemirror_mode": {
    "name": "ipython",
    "version": 3
   },
   "file_extension": ".py",
   "mimetype": "text/x-python",
   "name": "python",
   "nbconvert_exporter": "python",
   "pygments_lexer": "ipython3",
   "version": "3.12.2"
  }
 },
 "nbformat": 4,
 "nbformat_minor": 5
}
